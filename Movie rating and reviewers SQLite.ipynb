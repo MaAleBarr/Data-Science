{
 "cells": [
  {
   "cell_type": "code",
   "execution_count": 27,
   "metadata": {
    "collapsed": true
   },
   "outputs": [],
   "source": [
    "import pandas as pd\n",
    "from sqlalchemy import create_engine # database connection"
   ]
  },
  {
   "cell_type": "code",
   "execution_count": 28,
   "metadata": {
    "collapsed": true
   },
   "outputs": [],
   "source": [
    "# Initializes database with file movieRating.sqlite\n",
    "disk_engine = create_engine('sqlite:///movieRating.sqlite') "
   ]
  },
  {
   "cell_type": "code",
   "execution_count": 66,
   "metadata": {
    "collapsed": false
   },
   "outputs": [
    {
     "data": {
      "text/html": [
       "<div>\n",
       "<table border=\"1\" class=\"dataframe\">\n",
       "  <thead>\n",
       "    <tr style=\"text-align: right;\">\n",
       "      <th></th>\n",
       "      <th>mID</th>\n",
       "      <th>title</th>\n",
       "      <th>year</th>\n",
       "      <th>director</th>\n",
       "    </tr>\n",
       "  </thead>\n",
       "  <tbody>\n",
       "    <tr>\n",
       "      <th>0</th>\n",
       "      <td>101</td>\n",
       "      <td>Gone with the wind</td>\n",
       "      <td>1939</td>\n",
       "      <td>Victor Fleming</td>\n",
       "    </tr>\n",
       "    <tr>\n",
       "      <th>1</th>\n",
       "      <td>102</td>\n",
       "      <td>Star Wars</td>\n",
       "      <td>1977</td>\n",
       "      <td>George Lucas</td>\n",
       "    </tr>\n",
       "    <tr>\n",
       "      <th>2</th>\n",
       "      <td>103</td>\n",
       "      <td>The Sound of Music</td>\n",
       "      <td>1965</td>\n",
       "      <td>Robert Wise</td>\n",
       "    </tr>\n",
       "    <tr>\n",
       "      <th>3</th>\n",
       "      <td>104</td>\n",
       "      <td>E.T.</td>\n",
       "      <td>1982</td>\n",
       "      <td>Steven Spielberg</td>\n",
       "    </tr>\n",
       "    <tr>\n",
       "      <th>4</th>\n",
       "      <td>105</td>\n",
       "      <td>Titanic</td>\n",
       "      <td>1997</td>\n",
       "      <td>James Cameron</td>\n",
       "    </tr>\n",
       "    <tr>\n",
       "      <th>5</th>\n",
       "      <td>106</td>\n",
       "      <td>Snow White</td>\n",
       "      <td>1937</td>\n",
       "      <td>None</td>\n",
       "    </tr>\n",
       "    <tr>\n",
       "      <th>6</th>\n",
       "      <td>107</td>\n",
       "      <td>Avatar</td>\n",
       "      <td>2009</td>\n",
       "      <td>James Cameron</td>\n",
       "    </tr>\n",
       "    <tr>\n",
       "      <th>7</th>\n",
       "      <td>108</td>\n",
       "      <td>Raiders of the Lost Ark</td>\n",
       "      <td>1981</td>\n",
       "      <td>Steven Spielberg</td>\n",
       "    </tr>\n",
       "  </tbody>\n",
       "</table>\n",
       "</div>"
      ],
      "text/plain": [
       "   mID                    title  year          director\n",
       "0  101       Gone with the wind  1939    Victor Fleming\n",
       "1  102                Star Wars  1977      George Lucas\n",
       "2  103       The Sound of Music  1965       Robert Wise\n",
       "3  104                     E.T.  1982  Steven Spielberg\n",
       "4  105                  Titanic  1997     James Cameron\n",
       "5  106               Snow White  1937              None\n",
       "6  107                   Avatar  2009     James Cameron\n",
       "7  108  Raiders of the Lost Ark  1981  Steven Spielberg"
      ]
     },
     "execution_count": 66,
     "metadata": {},
     "output_type": "execute_result"
    }
   ],
   "source": [
    "df = pd.read_sql_query('Select * from movie', disk_engine)\n",
    "df.head(20)"
   ]
  },
  {
   "cell_type": "code",
   "execution_count": 67,
   "metadata": {
    "collapsed": false
   },
   "outputs": [
    {
     "data": {
      "text/html": [
       "<div>\n",
       "<table border=\"1\" class=\"dataframe\">\n",
       "  <thead>\n",
       "    <tr style=\"text-align: right;\">\n",
       "      <th></th>\n",
       "      <th>rID</th>\n",
       "      <th>mID</th>\n",
       "      <th>stars</th>\n",
       "      <th>ratingDate</th>\n",
       "    </tr>\n",
       "  </thead>\n",
       "  <tbody>\n",
       "    <tr>\n",
       "      <th>0</th>\n",
       "      <td>201</td>\n",
       "      <td>101</td>\n",
       "      <td>2</td>\n",
       "      <td>2011-01-22</td>\n",
       "    </tr>\n",
       "    <tr>\n",
       "      <th>1</th>\n",
       "      <td>201</td>\n",
       "      <td>101</td>\n",
       "      <td>4</td>\n",
       "      <td>2011-01-27</td>\n",
       "    </tr>\n",
       "    <tr>\n",
       "      <th>2</th>\n",
       "      <td>202</td>\n",
       "      <td>106</td>\n",
       "      <td>4</td>\n",
       "      <td>None</td>\n",
       "    </tr>\n",
       "    <tr>\n",
       "      <th>3</th>\n",
       "      <td>203</td>\n",
       "      <td>103</td>\n",
       "      <td>2</td>\n",
       "      <td>2011-01-20</td>\n",
       "    </tr>\n",
       "    <tr>\n",
       "      <th>4</th>\n",
       "      <td>203</td>\n",
       "      <td>108</td>\n",
       "      <td>4</td>\n",
       "      <td>2011-01-12</td>\n",
       "    </tr>\n",
       "    <tr>\n",
       "      <th>5</th>\n",
       "      <td>203</td>\n",
       "      <td>108</td>\n",
       "      <td>2</td>\n",
       "      <td>2011-01-30</td>\n",
       "    </tr>\n",
       "    <tr>\n",
       "      <th>6</th>\n",
       "      <td>204</td>\n",
       "      <td>101</td>\n",
       "      <td>3</td>\n",
       "      <td>2011-01-09</td>\n",
       "    </tr>\n",
       "    <tr>\n",
       "      <th>7</th>\n",
       "      <td>205</td>\n",
       "      <td>103</td>\n",
       "      <td>3</td>\n",
       "      <td>2011-01-27</td>\n",
       "    </tr>\n",
       "    <tr>\n",
       "      <th>8</th>\n",
       "      <td>205</td>\n",
       "      <td>104</td>\n",
       "      <td>2</td>\n",
       "      <td>2011-01-22</td>\n",
       "    </tr>\n",
       "    <tr>\n",
       "      <th>9</th>\n",
       "      <td>205</td>\n",
       "      <td>108</td>\n",
       "      <td>4</td>\n",
       "      <td>None</td>\n",
       "    </tr>\n",
       "    <tr>\n",
       "      <th>10</th>\n",
       "      <td>206</td>\n",
       "      <td>107</td>\n",
       "      <td>3</td>\n",
       "      <td>2011-01-15</td>\n",
       "    </tr>\n",
       "    <tr>\n",
       "      <th>11</th>\n",
       "      <td>206</td>\n",
       "      <td>106</td>\n",
       "      <td>5</td>\n",
       "      <td>2011-01-19</td>\n",
       "    </tr>\n",
       "    <tr>\n",
       "      <th>12</th>\n",
       "      <td>207</td>\n",
       "      <td>107</td>\n",
       "      <td>5</td>\n",
       "      <td>2011-01-20</td>\n",
       "    </tr>\n",
       "    <tr>\n",
       "      <th>13</th>\n",
       "      <td>208</td>\n",
       "      <td>104</td>\n",
       "      <td>3</td>\n",
       "      <td>2011-01-02</td>\n",
       "    </tr>\n",
       "  </tbody>\n",
       "</table>\n",
       "</div>"
      ],
      "text/plain": [
       "    rID  mID  stars  ratingDate\n",
       "0   201  101      2  2011-01-22\n",
       "1   201  101      4  2011-01-27\n",
       "2   202  106      4        None\n",
       "3   203  103      2  2011-01-20\n",
       "4   203  108      4  2011-01-12\n",
       "5   203  108      2  2011-01-30\n",
       "6   204  101      3  2011-01-09\n",
       "7   205  103      3  2011-01-27\n",
       "8   205  104      2  2011-01-22\n",
       "9   205  108      4        None\n",
       "10  206  107      3  2011-01-15\n",
       "11  206  106      5  2011-01-19\n",
       "12  207  107      5  2011-01-20\n",
       "13  208  104      3  2011-01-02"
      ]
     },
     "execution_count": 67,
     "metadata": {},
     "output_type": "execute_result"
    }
   ],
   "source": [
    "df = pd.read_sql_query('Select * from rating', disk_engine)\n",
    "df.head(20)"
   ]
  },
  {
   "cell_type": "code",
   "execution_count": 68,
   "metadata": {
    "collapsed": false
   },
   "outputs": [
    {
     "data": {
      "text/html": [
       "<div>\n",
       "<table border=\"1\" class=\"dataframe\">\n",
       "  <thead>\n",
       "    <tr style=\"text-align: right;\">\n",
       "      <th></th>\n",
       "      <th>rID</th>\n",
       "      <th>name</th>\n",
       "    </tr>\n",
       "  </thead>\n",
       "  <tbody>\n",
       "    <tr>\n",
       "      <th>0</th>\n",
       "      <td>201</td>\n",
       "      <td>Sarah Martinez</td>\n",
       "    </tr>\n",
       "    <tr>\n",
       "      <th>1</th>\n",
       "      <td>202</td>\n",
       "      <td>Daniel Lewis</td>\n",
       "    </tr>\n",
       "    <tr>\n",
       "      <th>2</th>\n",
       "      <td>203</td>\n",
       "      <td>Brittany Harris</td>\n",
       "    </tr>\n",
       "    <tr>\n",
       "      <th>3</th>\n",
       "      <td>204</td>\n",
       "      <td>Mike Anderson</td>\n",
       "    </tr>\n",
       "    <tr>\n",
       "      <th>4</th>\n",
       "      <td>205</td>\n",
       "      <td>Chris Jackson</td>\n",
       "    </tr>\n",
       "    <tr>\n",
       "      <th>5</th>\n",
       "      <td>206</td>\n",
       "      <td>Elizabeth Thomas</td>\n",
       "    </tr>\n",
       "    <tr>\n",
       "      <th>6</th>\n",
       "      <td>207</td>\n",
       "      <td>James Cameron</td>\n",
       "    </tr>\n",
       "    <tr>\n",
       "      <th>7</th>\n",
       "      <td>208</td>\n",
       "      <td>Ashley White</td>\n",
       "    </tr>\n",
       "  </tbody>\n",
       "</table>\n",
       "</div>"
      ],
      "text/plain": [
       "   rID              name\n",
       "0  201    Sarah Martinez\n",
       "1  202      Daniel Lewis\n",
       "2  203   Brittany Harris\n",
       "3  204     Mike Anderson\n",
       "4  205     Chris Jackson\n",
       "5  206  Elizabeth Thomas\n",
       "6  207     James Cameron\n",
       "7  208      Ashley White"
      ]
     },
     "execution_count": 68,
     "metadata": {},
     "output_type": "execute_result"
    }
   ],
   "source": [
    "df = pd.read_sql_query('Select * from reviewer', disk_engine)\n",
    "df.head(20)"
   ]
  },
  {
   "cell_type": "code",
   "execution_count": 40,
   "metadata": {
    "collapsed": false
   },
   "outputs": [
    {
     "data": {
      "text/html": [
       "<div>\n",
       "<table border=\"1\" class=\"dataframe\">\n",
       "  <thead>\n",
       "    <tr style=\"text-align: right;\">\n",
       "      <th></th>\n",
       "      <th>year</th>\n",
       "    </tr>\n",
       "  </thead>\n",
       "  <tbody>\n",
       "    <tr>\n",
       "      <th>0</th>\n",
       "      <td>1937</td>\n",
       "    </tr>\n",
       "    <tr>\n",
       "      <th>1</th>\n",
       "      <td>1939</td>\n",
       "    </tr>\n",
       "    <tr>\n",
       "      <th>2</th>\n",
       "      <td>1981</td>\n",
       "    </tr>\n",
       "    <tr>\n",
       "      <th>3</th>\n",
       "      <td>2009</td>\n",
       "    </tr>\n",
       "  </tbody>\n",
       "</table>\n",
       "</div>"
      ],
      "text/plain": [
       "   year\n",
       "0  1937\n",
       "1  1939\n",
       "2  1981\n",
       "3  2009"
      ]
     },
     "execution_count": 40,
     "metadata": {},
     "output_type": "execute_result"
    }
   ],
   "source": [
    "# Find all years that have a movie that received a rating of 4 or 5, and sort them in increasing order.\n",
    "df=pd.read_sql_query('Select distinct Movie.year From Movie, Rating Where Movie.mID=Rating.mID and Rating.stars >= 4 order by movie.year', disk_engine)\n",
    "df.head()"
   ]
  },
  {
   "cell_type": "code",
   "execution_count": 39,
   "metadata": {
    "collapsed": false
   },
   "outputs": [
    {
     "data": {
      "text/html": [
       "<div>\n",
       "<table border=\"1\" class=\"dataframe\">\n",
       "  <thead>\n",
       "    <tr style=\"text-align: right;\">\n",
       "      <th></th>\n",
       "      <th>title</th>\n",
       "    </tr>\n",
       "  </thead>\n",
       "  <tbody>\n",
       "    <tr>\n",
       "      <th>0</th>\n",
       "      <td>E.T.</td>\n",
       "    </tr>\n",
       "    <tr>\n",
       "      <th>1</th>\n",
       "      <td>Raiders of the Lost Ark</td>\n",
       "    </tr>\n",
       "  </tbody>\n",
       "</table>\n",
       "</div>"
      ],
      "text/plain": [
       "                     title\n",
       "0                     E.T.\n",
       "1  Raiders of the Lost Ark"
      ]
     },
     "execution_count": 39,
     "metadata": {},
     "output_type": "execute_result"
    }
   ],
   "source": [
    "# Find the titles of all movies directed by Steven Spielberg. \n",
    "df=pd.read_sql_query('SELECT title '\n",
    "                     'FROM movie '\n",
    "                     'WHERE movie.director = \"Steven Spielberg\" ', disk_engine)\n",
    "df.head()"
   ]
  },
  {
   "cell_type": "code",
   "execution_count": 47,
   "metadata": {
    "collapsed": false
   },
   "outputs": [
    {
     "data": {
      "text/html": [
       "<div>\n",
       "<table border=\"1\" class=\"dataframe\">\n",
       "  <thead>\n",
       "    <tr style=\"text-align: right;\">\n",
       "      <th></th>\n",
       "      <th>title</th>\n",
       "    </tr>\n",
       "  </thead>\n",
       "  <tbody>\n",
       "    <tr>\n",
       "      <th>0</th>\n",
       "      <td>Star Wars</td>\n",
       "    </tr>\n",
       "    <tr>\n",
       "      <th>1</th>\n",
       "      <td>Titanic</td>\n",
       "    </tr>\n",
       "  </tbody>\n",
       "</table>\n",
       "</div>"
      ],
      "text/plain": [
       "       title\n",
       "0  Star Wars\n",
       "1    Titanic"
      ]
     },
     "execution_count": 47,
     "metadata": {},
     "output_type": "execute_result"
    }
   ],
   "source": [
    "# Find the titles of all movies that have no ratings. \n",
    "df=pd.read_sql_query('SELECT title '\n",
    "                     'FROM movie '\n",
    "                     'WHERE mID NOT IN (SELECT movie.mID FROM movie, rating WHERE movie.mID=rating.mID)', disk_engine)\n",
    "df.head()"
   ]
  },
  {
   "cell_type": "code",
   "execution_count": 50,
   "metadata": {
    "collapsed": false
   },
   "outputs": [
    {
     "data": {
      "text/html": [
       "<div>\n",
       "<table border=\"1\" class=\"dataframe\">\n",
       "  <thead>\n",
       "    <tr style=\"text-align: right;\">\n",
       "      <th></th>\n",
       "      <th>name</th>\n",
       "    </tr>\n",
       "  </thead>\n",
       "  <tbody>\n",
       "    <tr>\n",
       "      <th>0</th>\n",
       "      <td>Daniel Lewis</td>\n",
       "    </tr>\n",
       "    <tr>\n",
       "      <th>1</th>\n",
       "      <td>Chris Jackson</td>\n",
       "    </tr>\n",
       "  </tbody>\n",
       "</table>\n",
       "</div>"
      ],
      "text/plain": [
       "            name\n",
       "0   Daniel Lewis\n",
       "1  Chris Jackson"
      ]
     },
     "execution_count": 50,
     "metadata": {},
     "output_type": "execute_result"
    }
   ],
   "source": [
    "# Some reviewers didn't provide a date with their rating. \n",
    "# Find the names of all reviewers who have ratings with a NULL value for \n",
    "# the date. \n",
    "df=pd.read_sql_query('SELECT name '\n",
    "                  'FROM reviewer '\n",
    "                  'WHERE rID in (select rID from rating where ratingDate is null)', disk_engine) \n",
    "df.head()"
   ]
  },
  {
   "cell_type": "code",
   "execution_count": 60,
   "metadata": {
    "collapsed": false,
    "scrolled": true
   },
   "outputs": [
    {
     "data": {
      "text/html": [
       "<div>\n",
       "<table border=\"1\" class=\"dataframe\">\n",
       "  <thead>\n",
       "    <tr style=\"text-align: right;\">\n",
       "      <th></th>\n",
       "      <th>name</th>\n",
       "      <th>title</th>\n",
       "      <th>stars</th>\n",
       "      <th>ratingDate</th>\n",
       "    </tr>\n",
       "  </thead>\n",
       "  <tbody>\n",
       "    <tr>\n",
       "      <th>0</th>\n",
       "      <td>Ashley White</td>\n",
       "      <td>E.T.</td>\n",
       "      <td>3</td>\n",
       "      <td>2011-01-02</td>\n",
       "    </tr>\n",
       "    <tr>\n",
       "      <th>1</th>\n",
       "      <td>Brittany Harris</td>\n",
       "      <td>Raiders of the Lost Ark</td>\n",
       "      <td>2</td>\n",
       "      <td>2011-01-30</td>\n",
       "    </tr>\n",
       "    <tr>\n",
       "      <th>2</th>\n",
       "      <td>Brittany Harris</td>\n",
       "      <td>Raiders of the Lost Ark</td>\n",
       "      <td>4</td>\n",
       "      <td>2011-01-12</td>\n",
       "    </tr>\n",
       "    <tr>\n",
       "      <th>3</th>\n",
       "      <td>Brittany Harris</td>\n",
       "      <td>The Sound of Music</td>\n",
       "      <td>2</td>\n",
       "      <td>2011-01-20</td>\n",
       "    </tr>\n",
       "    <tr>\n",
       "      <th>4</th>\n",
       "      <td>Chris Jackson</td>\n",
       "      <td>E.T.</td>\n",
       "      <td>2</td>\n",
       "      <td>2011-01-22</td>\n",
       "    </tr>\n",
       "    <tr>\n",
       "      <th>5</th>\n",
       "      <td>Chris Jackson</td>\n",
       "      <td>Raiders of the Lost Ark</td>\n",
       "      <td>4</td>\n",
       "      <td>None</td>\n",
       "    </tr>\n",
       "    <tr>\n",
       "      <th>6</th>\n",
       "      <td>Chris Jackson</td>\n",
       "      <td>The Sound of Music</td>\n",
       "      <td>3</td>\n",
       "      <td>2011-01-27</td>\n",
       "    </tr>\n",
       "    <tr>\n",
       "      <th>7</th>\n",
       "      <td>Daniel Lewis</td>\n",
       "      <td>Snow White</td>\n",
       "      <td>4</td>\n",
       "      <td>None</td>\n",
       "    </tr>\n",
       "    <tr>\n",
       "      <th>8</th>\n",
       "      <td>Elizabeth Thomas</td>\n",
       "      <td>Avatar</td>\n",
       "      <td>3</td>\n",
       "      <td>2011-01-15</td>\n",
       "    </tr>\n",
       "    <tr>\n",
       "      <th>9</th>\n",
       "      <td>Elizabeth Thomas</td>\n",
       "      <td>Snow White</td>\n",
       "      <td>5</td>\n",
       "      <td>2011-01-19</td>\n",
       "    </tr>\n",
       "    <tr>\n",
       "      <th>10</th>\n",
       "      <td>James Cameron</td>\n",
       "      <td>Avatar</td>\n",
       "      <td>5</td>\n",
       "      <td>2011-01-20</td>\n",
       "    </tr>\n",
       "    <tr>\n",
       "      <th>11</th>\n",
       "      <td>Mike Anderson</td>\n",
       "      <td>Gone with the wind</td>\n",
       "      <td>3</td>\n",
       "      <td>2011-01-09</td>\n",
       "    </tr>\n",
       "    <tr>\n",
       "      <th>12</th>\n",
       "      <td>Sarah Martinez</td>\n",
       "      <td>Gone with the wind</td>\n",
       "      <td>2</td>\n",
       "      <td>2011-01-22</td>\n",
       "    </tr>\n",
       "    <tr>\n",
       "      <th>13</th>\n",
       "      <td>Sarah Martinez</td>\n",
       "      <td>Gone with the wind</td>\n",
       "      <td>4</td>\n",
       "      <td>2011-01-27</td>\n",
       "    </tr>\n",
       "  </tbody>\n",
       "</table>\n",
       "</div>"
      ],
      "text/plain": [
       "                name                    title  stars  ratingDate\n",
       "0       Ashley White                     E.T.      3  2011-01-02\n",
       "1    Brittany Harris  Raiders of the Lost Ark      2  2011-01-30\n",
       "2    Brittany Harris  Raiders of the Lost Ark      4  2011-01-12\n",
       "3    Brittany Harris       The Sound of Music      2  2011-01-20\n",
       "4      Chris Jackson                     E.T.      2  2011-01-22\n",
       "5      Chris Jackson  Raiders of the Lost Ark      4        None\n",
       "6      Chris Jackson       The Sound of Music      3  2011-01-27\n",
       "7       Daniel Lewis               Snow White      4        None\n",
       "8   Elizabeth Thomas                   Avatar      3  2011-01-15\n",
       "9   Elizabeth Thomas               Snow White      5  2011-01-19\n",
       "10     James Cameron                   Avatar      5  2011-01-20\n",
       "11     Mike Anderson       Gone with the wind      3  2011-01-09\n",
       "12    Sarah Martinez       Gone with the wind      2  2011-01-22\n",
       "13    Sarah Martinez       Gone with the wind      4  2011-01-27"
      ]
     },
     "execution_count": 60,
     "metadata": {},
     "output_type": "execute_result"
    }
   ],
   "source": [
    "# Write a query to return the ratings data in a more readable format: \n",
    "# reviewer name, movie title, stars, and ratingDate. \n",
    "#Also, sort the data, first by reviewer name, then by movie title, and lastly by number of stars. \n",
    "df=pd.read_sql_query('select distinct reviewer.name, movie.title, rating.stars, rating.ratingDate '\n",
    "                     'from movie, reviewer, rating '\n",
    "                     'where movie.mID=rating.mID and rating.rID=reviewer.rID '\n",
    "                     'order by reviewer.name, movie.title, rating.stars', disk_engine)\n",
    "df.head(20)"
   ]
  },
  {
   "cell_type": "code",
   "execution_count": 61,
   "metadata": {
    "collapsed": false
   },
   "outputs": [
    {
     "data": {
      "text/html": [
       "<div>\n",
       "<table border=\"1\" class=\"dataframe\">\n",
       "  <thead>\n",
       "    <tr style=\"text-align: right;\">\n",
       "      <th></th>\n",
       "      <th>name</th>\n",
       "      <th>title</th>\n",
       "    </tr>\n",
       "  </thead>\n",
       "  <tbody>\n",
       "    <tr>\n",
       "      <th>0</th>\n",
       "      <td>Sarah Martinez</td>\n",
       "      <td>Gone with the wind</td>\n",
       "    </tr>\n",
       "  </tbody>\n",
       "</table>\n",
       "</div>"
      ],
      "text/plain": [
       "             name               title\n",
       "0  Sarah Martinez  Gone with the wind"
      ]
     },
     "execution_count": 61,
     "metadata": {},
     "output_type": "execute_result"
    }
   ],
   "source": [
    "# For all cases where the same reviewer rated the same movie twice and gave it a higher \n",
    "# rating the second time, return the reviewer's name and the title of the movie. \n",
    "df=pd.read_sql_query('select reviewer.name, movie.title '\n",
    "                     'from reviewer, movie, (select R1.rID, R1.mID from rating R1, rating R2 where R1.rID=R2.rID and R1.mID=R2.mID and R1.stars<R2.stars and R1.ratingDate<R2.ratingDate) test '\n",
    "                     'where test.rID=reviewer.rID and test.mID=movie.mID', disk_engine)\n",
    "df.head(5)"
   ]
  },
  {
   "cell_type": "code",
   "execution_count": 62,
   "metadata": {
    "collapsed": false
   },
   "outputs": [
    {
     "data": {
      "text/html": [
       "<div>\n",
       "<table border=\"1\" class=\"dataframe\">\n",
       "  <thead>\n",
       "    <tr style=\"text-align: right;\">\n",
       "      <th></th>\n",
       "      <th>title</th>\n",
       "      <th>maxStr</th>\n",
       "    </tr>\n",
       "  </thead>\n",
       "  <tbody>\n",
       "    <tr>\n",
       "      <th>0</th>\n",
       "      <td>Avatar</td>\n",
       "      <td>5</td>\n",
       "    </tr>\n",
       "    <tr>\n",
       "      <th>1</th>\n",
       "      <td>E.T.</td>\n",
       "      <td>3</td>\n",
       "    </tr>\n",
       "    <tr>\n",
       "      <th>2</th>\n",
       "      <td>Gone with the wind</td>\n",
       "      <td>4</td>\n",
       "    </tr>\n",
       "    <tr>\n",
       "      <th>3</th>\n",
       "      <td>Raiders of the Lost Ark</td>\n",
       "      <td>4</td>\n",
       "    </tr>\n",
       "    <tr>\n",
       "      <th>4</th>\n",
       "      <td>Snow White</td>\n",
       "      <td>5</td>\n",
       "    </tr>\n",
       "  </tbody>\n",
       "</table>\n",
       "</div>"
      ],
      "text/plain": [
       "                     title  maxStr\n",
       "0                   Avatar       5\n",
       "1                     E.T.       3\n",
       "2       Gone with the wind       4\n",
       "3  Raiders of the Lost Ark       4\n",
       "4               Snow White       5"
      ]
     },
     "execution_count": 62,
     "metadata": {},
     "output_type": "execute_result"
    }
   ],
   "source": [
    "# For each movie that has at least one rating, find the highest number \n",
    "# of stars that movie received. Return the movie title and number of stars. Sort by movie title. \n",
    "df=pd.read_sql_query('select movie.title, M.maxStr '\n",
    "                     'from movie,(select rating.mID as rtMID, max(rating.stars) as maxStr from rating group by mID) M '\n",
    "                     'Where movie.mID=M.rtMID '\n",
    "                     'order by movie.title ', disk_engine)\n",
    "df.head()"
   ]
  },
  {
   "cell_type": "code",
   "execution_count": 63,
   "metadata": {
    "collapsed": false
   },
   "outputs": [
    {
     "data": {
      "text/html": [
       "<div>\n",
       "<table border=\"1\" class=\"dataframe\">\n",
       "  <thead>\n",
       "    <tr style=\"text-align: right;\">\n",
       "      <th></th>\n",
       "      <th>title</th>\n",
       "      <th>sprd</th>\n",
       "    </tr>\n",
       "  </thead>\n",
       "  <tbody>\n",
       "    <tr>\n",
       "      <th>0</th>\n",
       "      <td>Avatar</td>\n",
       "      <td>2</td>\n",
       "    </tr>\n",
       "    <tr>\n",
       "      <th>1</th>\n",
       "      <td>Gone with the wind</td>\n",
       "      <td>2</td>\n",
       "    </tr>\n",
       "    <tr>\n",
       "      <th>2</th>\n",
       "      <td>Raiders of the Lost Ark</td>\n",
       "      <td>2</td>\n",
       "    </tr>\n",
       "    <tr>\n",
       "      <th>3</th>\n",
       "      <td>E.T.</td>\n",
       "      <td>1</td>\n",
       "    </tr>\n",
       "    <tr>\n",
       "      <th>4</th>\n",
       "      <td>Snow White</td>\n",
       "      <td>1</td>\n",
       "    </tr>\n",
       "  </tbody>\n",
       "</table>\n",
       "</div>"
      ],
      "text/plain": [
       "                     title  sprd\n",
       "0                   Avatar     2\n",
       "1       Gone with the wind     2\n",
       "2  Raiders of the Lost Ark     2\n",
       "3                     E.T.     1\n",
       "4               Snow White     1"
      ]
     },
     "execution_count": 63,
     "metadata": {},
     "output_type": "execute_result"
    }
   ],
   "source": [
    "# For each movie, return the title and the 'rating spread', \n",
    "#that is, the difference between highest and lowest ratings given to \n",
    "#that movie. Sort by rating spread from highest to lowest, then by movie title.\n",
    "df=pd.read_sql_query('select movie.title, max(rating.stars)-min(rating.stars) as sprd '\n",
    "                     'from movie, rating '\n",
    "                     'where movie.mID=rating.mID '\n",
    "                     'group by movie.mID '\n",
    "                     'order by sprd desc, movie.title', disk_engine)\n",
    "df.head()"
   ]
  }
 ],
 "metadata": {
  "anaconda-cloud": {},
  "kernelspec": {
   "display_name": "Python [default]",
   "language": "python",
   "name": "python3"
  },
  "language_info": {
   "codemirror_mode": {
    "name": "ipython",
    "version": 3
   },
   "file_extension": ".py",
   "mimetype": "text/x-python",
   "name": "python",
   "nbconvert_exporter": "python",
   "pygments_lexer": "ipython3",
   "version": "3.5.2"
  }
 },
 "nbformat": 4,
 "nbformat_minor": 1
}
