{
 "cells": [
  {
   "cell_type": "markdown",
   "metadata": {},
   "source": [
    "# Sorting CS challenge"
   ]
  },
  {
   "cell_type": "markdown",
   "metadata": {},
   "source": [
    "## Part I :\n",
    "Create function that takes input txt file with string, removes all non-alphanumeric charecters, and sorts words in alphabetical order and integers in numerical ascending order, maintaining the orginal location of words and integers (i.e. if n-th entry was numeric in input list, it should be numeric after sorting)."
   ]
  },
  {
   "cell_type": "code",
   "execution_count": 1,
   "metadata": {
    "collapsed": false
   },
   "outputs": [],
   "source": [
    "import os\n",
    "\n",
    "%load_ext autoreload\n",
    "%autoreload 1\n",
    "%aimport parser\n",
    "from parser import Parser"
   ]
  },
  {
   "cell_type": "code",
   "execution_count": 2,
   "metadata": {
    "collapsed": true
   },
   "outputs": [],
   "source": [
    "os.chdir('/Users/mariaalejandrabarrios/Documents/0_DataScience/0_Insight/Data Challenge/CS challenge')"
   ]
  },
  {
   "cell_type": "code",
   "execution_count": 15,
   "metadata": {
    "collapsed": false,
    "scrolled": true
   },
   "outputs": [
    {
     "name": "stdout",
     "output_type": "stream",
     "text": [
      "['hol-$a', '-102', 'b*f.#', '&48', '0&&']\n",
      "hola\n",
      "-18\n",
      "apple -102 Bf hola 0 48\n"
     ]
    }
   ],
   "source": [
    "tt = Parser()\n",
    "\n",
    "# show functionality of methods in Parser class \n",
    "print(tt.GetSubStrings(' hol-$a -102 b*f.# &48 0&&'))\n",
    "print(tt.CleanString('ho l-$a '))\n",
    "print(tt.CleanString('$-18%'))\n",
    "print(tt.SortByNth(['hola', '-102', 'Bf', 'apple','48', '0']))"
   ]
  },
  {
   "cell_type": "code",
   "execution_count": 5,
   "metadata": {
    "collapsed": false
   },
   "outputs": [
    {
     "data": {
      "text/plain": [
       "'bf -102 hola -787 0 zebra 48'"
      ]
     },
     "execution_count": 5,
     "metadata": {},
     "output_type": "execute_result"
    }
   ],
   "source": [
    "# CleanAndSortedString uses all the above functions to rid imported string from an input txt\n",
    "# from non- alpha numeric symbols, and sort in alphabetical and ascending numerical order, \n",
    "# keeping original location of words and ints\n",
    "\n",
    "tt.CleanAndSortedString('input0', 'test_out')"
   ]
  },
  {
   "cell_type": "markdown",
   "metadata": {},
   "source": [
    "## Part II: \n",
    "Create a test suite for above functions"
   ]
  },
  {
   "cell_type": "markdown",
   "metadata": {},
   "source": [
    "test help me catch: \n",
    "- correctly handle negative sign if it not the first character (i.e '$-18%')\n",
    "- If input has two spaces, it will take one as an entry of string '' >> remove these entries"
   ]
  },
  {
   "cell_type": "code",
   "execution_count": 16,
   "metadata": {
    "collapsed": false
   },
   "outputs": [
    {
     "name": "stdout",
     "output_type": "stream",
     "text": [
      "\u001b[1m============================= test session starts ==============================\u001b[0m\n",
      "platform darwin -- Python 3.6.0, pytest-3.0.5, py-1.4.32, pluggy-0.4.0\n",
      "rootdir: /Users/mariaalejandrabarrios/Documents/0_DataScience/0_Insight/Data Challenge/CS challenge, inifile: \n",
      "collected 7 items \u001b[0m\u001b[1m\n",
      "\u001b[0m\n",
      "test_parser.py .......\n",
      "\n",
      "\u001b[32m\u001b[1m=========================== 7 passed in 0.31 seconds ===========================\u001b[0m\n"
     ]
    }
   ],
   "source": [
    "!py.test "
   ]
  },
  {
   "cell_type": "markdown",
   "metadata": {},
   "source": [
    "# Part III:\n",
    "Write a short analysis of the algorithm and other possible algorithms to solve the problem. Look at the expected running time of the different algorithms as a function of the number of words and the number of duplicate words."
   ]
  },
  {
   "cell_type": "code",
   "execution_count": null,
   "metadata": {
    "collapsed": true
   },
   "outputs": [],
   "source": []
  }
 ],
 "metadata": {
  "kernelspec": {
   "display_name": "Python 3",
   "language": "python",
   "name": "python3"
  },
  "language_info": {
   "codemirror_mode": {
    "name": "ipython",
    "version": 3
   },
   "file_extension": ".py",
   "mimetype": "text/x-python",
   "name": "python",
   "nbconvert_exporter": "python",
   "pygments_lexer": "ipython3",
   "version": "3.6.0"
  }
 },
 "nbformat": 4,
 "nbformat_minor": 2
}
